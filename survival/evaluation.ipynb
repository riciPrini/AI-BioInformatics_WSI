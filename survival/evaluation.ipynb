{
 "cells": [
  {
   "cell_type": "code",
   "execution_count": 2,
   "metadata": {},
   "outputs": [
    {
     "name": "stderr",
     "output_type": "stream",
     "text": [
      "/homes/rprini/.local/lib/python3.9/site-packages/pandas/core/computation/expressions.py:21: UserWarning: Pandas requires version '2.8.4' or newer of 'numexpr' (version '2.8.3' currently installed).\n",
      "  from pandas.core.computation.check import NUMEXPR_INSTALLED\n",
      "/homes/rprini/.local/lib/python3.9/site-packages/pandas/core/arrays/masked.py:60: UserWarning: Pandas requires version '1.3.6' or newer of 'bottleneck' (version '1.3.5' currently installed).\n",
      "  from pandas.core import (\n"
     ]
    }
   ],
   "source": [
    "import pandas as pd\n",
    "import argparse\n",
    "import os\n",
    "import numpy as np\n",
    "import glob"
   ]
  },
  {
   "cell_type": "markdown",
   "metadata": {},
   "source": [
    "# SurvPath Evaluation"
   ]
  },
  {
   "cell_type": "code",
   "execution_count": 9,
   "metadata": {},
   "outputs": [
    {
     "name": "stdout",
     "output_type": "stream",
     "text": [
      "          Model  Best C-Index     Mean       Std\n",
      "0  SurvPath_all      0.693831  0.61228  0.098506\n",
      "          Model  Best C-Index      Mean       Std\n",
      "0  SurvPath_all      0.790896  0.656145  0.118823\n",
      "          Model  Best C-Index      Mean       Std\n",
      "0  SurvPath_all      0.739842  0.624484  0.091064\n",
      "          Model  Best C-Index      Mean       Std\n",
      "0  SurvPath_all      0.708707  0.624707  0.090697\n",
      "          Model  Best C-Index      Mean       Std\n",
      "0  SurvPath_all      0.695833  0.580038  0.104164\n",
      "          Model  Best C-Index      Mean       Std\n",
      "0  SurvPath_all      0.732575  0.564276  0.132286\n",
      "          Model  Best C-Index      Mean       Std\n",
      "0  SurvPath_all      0.721195  0.559843  0.143716\n",
      "          Model  Best C-Index      Mean      Std\n",
      "0  SurvPath_all      0.698435  0.557644  0.12001\n"
     ]
    }
   ],
   "source": [
    "\n",
    "base_paths = [\n",
    "    \"/work/ai4bio2024/brca_surv/survival/OS_weights/SurvPath/all/0.0005\",\n",
    "    \"/work/ai4bio2024/brca_surv/survival/OS_weights/SurvPath/cab/0.0005\"\n",
    "]\n",
    "\n",
    "for path in base_paths:\n",
    "    summary_files = glob.glob(os.path.join(path, \"*/summary.csv\"))\n",
    "\n",
    "    for file in summary_files:\n",
    "        try:\n",
    "            df = pd.read_csv(file)\n",
    "            if 'val_cindex' in df.columns:\n",
    "                val_cindex_values = df['val_cindex'].dropna().values.astype(float)\n",
    "            else:\n",
    "                row = df[df['folds'] == 'val_cindex']\n",
    "                if not row.empty:\n",
    "                    val_cindex_values = row.values.flatten()[1:].astype(float)\n",
    "                else:\n",
    "                    print(f\"{file} - val_cindex non trovato né come colonna né come riga.\")\n",
    "                    continue\n",
    "\n",
    "            mean_val = np.mean(val_cindex_values)\n",
    "            std_val = np.std(val_cindex_values)\n",
    "            max_val = np.max(val_cindex_values)\n",
    "            name = \"\"\n",
    "            if \"distillation\" in path:\n",
    "                name = \"SurvPath_CAB\"\n",
    "            else:\n",
    "                name = \"SurvPath_all\"\n",
    "            \n",
    "            stats_df = pd.DataFrame({\n",
    "                'Model' : name,\n",
    "                'Best C-Index': [max_val],\n",
    "                'Mean': [mean_val],\n",
    "                'Std': [std_val],\n",
    "            })\n",
    "            print(stats_df)\n",
    "\n",
    "        except Exception as e:\n",
    "            print(f\"Errore nel file {file}: {e}\")\n"
   ]
  },
  {
   "cell_type": "markdown",
   "metadata": {},
   "source": [
    "# MCAT Evaluation"
   ]
  },
  {
   "cell_type": "code",
   "execution_count": 5,
   "metadata": {},
   "outputs": [
    {
     "name": "stdout",
     "output_type": "stream",
     "text": [
      "      Model  Best C-Index      Mean       Std\n",
      "0  MCAT_all      0.695981  0.578053  0.130906\n",
      "      Model  Best C-Index      Mean       Std\n",
      "0  MCAT_CAB      0.719316  0.577961  0.084692\n"
     ]
    }
   ],
   "source": [
    "path_list = [\"/work/ai4bio2024/brca_surv/survival/OS_weights/MCAT/all/MCAT_nll_surv_a0.0_5foldcv_gc32_concat/tcga_brca/_MCAT_nll_surv_a0.0_5foldcv_gc32_concat_s1/summary_latest.csv\",\n",
    "\"/work/ai4bio2024/brca_surv/survival/OS_weights/MCAT/CAB/MCAT_nll_surv_a0.0_5foldcv_gc32_concat/tcga_brca/_MCAT_nll_surv_a0.0_5foldcv_gc32_concat_s1/summary_latest.csv\"]\n",
    "\n",
    "for path in path_list:\n",
    "    df = pd.read_csv(path)\n",
    "    if 'val_cindex' in df.columns:\n",
    "                    val_cindex_values = df['val_cindex'].dropna().values.astype(float)\n",
    "    else:\n",
    "        row = df[df['folds'] == 'val_cindex']\n",
    "        if not row.empty:\n",
    "            val_cindex_values = row.values.flatten()[1:].astype(float)\n",
    "        else:\n",
    "            print(f\"{file} - val_cindex non trovato né come colonna né come riga.\")\n",
    "\n",
    "    mean_val = np.mean(val_cindex_values)\n",
    "    std_val = np.std(val_cindex_values)\n",
    "    max_val = np.max(val_cindex_values)\n",
    "    name = \"\"\n",
    "    if \"all\" in path:\n",
    "        name = \"MCAT_all\"\n",
    "    else:\n",
    "        name = \"MCAT_CAB\"\n",
    "    stats_df = pd.DataFrame({\n",
    "        'Model' : name,\n",
    "        'Best C-Index': [max_val],\n",
    "        'Mean': [mean_val],\n",
    "        'Std': [std_val],\n",
    "    })\n",
    "    print(stats_df)\n"
   ]
  },
  {
   "cell_type": "markdown",
   "metadata": {},
   "source": [
    "# MCAT Genomic Evaluation"
   ]
  },
  {
   "cell_type": "code",
   "execution_count": 8,
   "metadata": {},
   "outputs": [
    {
     "name": "stdout",
     "output_type": "stream",
     "text": [
      "\n",
      " ============ \n",
      "\n",
      "                  Model  Best C-Index      Mean       Std\n",
      "0  BRCA1_tpm_unstranded      0.663965  0.617706  0.025749\n",
      "              Model  Best C-Index      Mean       Std\n",
      "0  BRCA1_unstranded      0.662095  0.631047  0.018647\n",
      "                   Model  Best C-Index     Mean       Std\n",
      "0  BRCA1_fpkm_unstranded      0.669576  0.62394  0.024855\n",
      "                      Model  Best C-Index      Mean       Std\n",
      "0  BRCA1_fpkm_uq_unstranded      0.677057  0.628554  0.032671\n",
      "\n",
      " ============ \n",
      "\n",
      "                  Model  Best C-Index      Mean       Std\n",
      "0  BRCA2_tpm_unstranded      0.662718  0.636783  0.023469\n",
      "              Model  Best C-Index      Mean       Std\n",
      "0  BRCA2_unstranded      0.657107  0.628554  0.019881\n",
      "                   Model  Best C-Index      Mean       Std\n",
      "0  BRCA2_fpkm_unstranded      0.668329  0.636783  0.025999\n",
      "                      Model  Best C-Index      Mean       Std\n",
      "0  BRCA2_fpkm_uq_unstranded      0.667706  0.636908  0.025064\n"
     ]
    }
   ],
   "source": [
    "path_list = [\"/work/ai4bio2024/brca_surv/survival/OS_weights/MCAT_genomics/MCAT_genomics_brca1/summary.csv\",\n",
    "\"/work/ai4bio2024/brca_surv/survival/OS_weights/MCAT_genomics/MCAT_genomics_brca2/summary.csv\"]\n",
    "\n",
    "for path in path_list:\n",
    "    print(\"\\n ============ \\n\")\n",
    "    df = pd.read_csv(path)\n",
    "    for column in df.columns[1:]:  \n",
    "        mean_val = np.mean(df[column])\n",
    "        std_val = np.std(df[column])\n",
    "        max_val = np.max(df[column])\n",
    "\n",
    "        stats_df = pd.DataFrame({\n",
    "        'Model' : column,\n",
    "        'Best C-Index': [max_val],\n",
    "        'Mean': [mean_val],\n",
    "        'Std': [std_val],\n",
    "        })\n",
    "        print(stats_df)\n",
    "\n",
    "    "
   ]
  }
 ],
 "metadata": {
  "kernelspec": {
   "display_name": "Python 3 (ipykernel)",
   "language": "python",
   "name": "python3"
  },
  "language_info": {
   "codemirror_mode": {
    "name": "ipython",
    "version": 3
   },
   "file_extension": ".py",
   "mimetype": "text/x-python",
   "name": "python",
   "nbconvert_exporter": "python",
   "pygments_lexer": "ipython3",
   "version": "3.9.13"
  },
  "orig_nbformat": 4
 },
 "nbformat": 4,
 "nbformat_minor": 2
}
